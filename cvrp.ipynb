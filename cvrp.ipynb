{
 "cells": [
  {
   "cell_type": "markdown",
   "metadata": {},
   "source": [
    "# The Capacitated Vehicle Routing Problem"
   ]
  },
  {
   "cell_type": "code",
   "execution_count": 2,
   "metadata": {},
   "outputs": [],
   "source": [
    "import numpy as np\n",
    "from numpy.random import RandomState\n",
    "import matplotlib.pyplot as plt\n",
    "from gurobipy import Model, GRB, quicksum\n",
    "import seaborn as sns\n",
    "sns.set()"
   ]
  },
  {
   "cell_type": "markdown",
   "metadata": {},
   "source": [
    "## Parameters"
   ]
  },
  {
   "cell_type": "code",
   "execution_count": 7,
   "metadata": {},
   "outputs": [],
   "source": [
    "N_PATIENTS = 15\n",
    "SEED = 101"
   ]
  },
  {
   "cell_type": "markdown",
   "metadata": {},
   "source": [
    "## Patient Geographic Location"
   ]
  },
  {
   "cell_type": "code",
   "execution_count": 8,
   "metadata": {},
   "outputs": [],
   "source": [
    "#random number generator for synthetic data.\n",
    "rand_gen = RandomState(seed=SEED)\n",
    "\n",
    "#n_patients = 1 so we include the depot\n",
    "x_coords = rand_gen.random(size=N_PATIENTS+1) * 200\n",
    "y_coords = rand_gen.random(size=N_PATIENTS+1) * 100"
   ]
  },
  {
   "cell_type": "code",
   "execution_count": 27,
   "metadata": {},
   "outputs": [],
   "source": [
    "def plot_patient_coordinates(x_coords, y_coords):\n",
    "    '''\n",
    "    Plot a simple scatter of coordinates. \n",
    "    Depot is red, customers are blue\n",
    "    \n",
    "    Paramters:\n",
    "    x_coords: array-like\n",
    "        x coordinates for each patient. element 0 = depot.\n",
    "        \n",
    "    y_coords: array-like\n",
    "        y coordinates for each patient. element 0 = depot\n",
    "    '''\n",
    "    plt.plot(x_coords[0], y_coords[0], c='r', marker='^')\n",
    "    #plt.scatter(x_coords[1:], y_coords[1:], c='b')\n",
    "    \n",
    "    for i in range(1, len(x_coords[1:])):\n",
    "        x = x_coords[i]\n",
    "        y = y_coords[i]\n",
    "        plt.plot(x, y, 'b*')\n",
    "        plt.text(x * (1 + 0.01), y * (1 + 0.01) , i, fontsize=12)\n",
    "    \n",
    "    plt.xlim((0, 220))\n",
    "    plt.ylim((0, 120))\n",
    "    plt.show()"
   ]
  },
  {
   "cell_type": "code",
   "execution_count": 28,
   "metadata": {},
   "outputs": [
    {
     "data": {
      "image/png": "[encoded data removed]",
      "text/plain": [
       "<Figure size 432x288 with 1 Axes>"
      ]
     },
     "metadata": {},
     "output_type": "display_data"
    }
   ],
   "source": [
    "#visualise\n",
    "plot_patient_coordinates(x_coords, y_coords)"
   ]
  },
  {
   "cell_type": "markdown",
   "metadata": {},
   "source": [
    "## Approaches to 'solving' the CVRP\n",
    "\n",
    "* Formulation as a **Mixed Integer Programme** (MIP) and use of a optimisation solver\n",
    "* Heuristic solution.  E.g. using Iterated Local Search."
   ]
  },
  {
   "cell_type": "markdown",
   "metadata": {},
   "source": [
    "## Mixed Integer Programme (MIP) formulation\n",
    "\n",
    "* The advantage of a mathematical forumulation of the problem is that we can use a modern solver like **Gurobi**.\n",
    "* Gurobi is extremely powerful.  The downside is that a commerical tool and the source code is closed (but free to use in research)."
   ]
  },
  {
   "cell_type": "markdown",
   "metadata": {},
   "source": [
    "$n$ is the number of patients\n",
    "\n",
    "$N$ is the set of patients $\\{1, 2, ..., n\\}$\n",
    "\n",
    "$V$ is the set of verticies (nodes) to visit. $V=\\{0\\}\\cup N$\n",
    "\n",
    "$A$ is the set of arcs (links) $A = \\left\\{ \\left(i,j\\right)  \\in V^2 : i\\neq j\\right\\}$\n",
    "\n",
    "$c_{ij}$ is cost of travel over arc $(i,j)\\in A$\n",
    "\n",
    "$Q$ is the vehicle capacity (for ambulances this is an integer)\n",
    "\n",
    "$q_i$ is the load represented by a patient (in our problem this always 1)\n",
    "\n"
   ]
  },
  {
   "cell_type": "markdown",
   "metadata": {},
   "source": [
    "\\begin{equation}\n",
    "\\begin{aligned}\n",
    "       \\text{min} &  \\sum_{i=1}^{n} \\sum_{j=1}^{n} c_{ij} x_{ij} \\\\\n",
    "       \\text{s.t.} & \\sum_{i=1}^{n} x_{ij} = 1, & & j \\in N, j \\neq i \\\\\n",
    "       &   \\sum_{j=1}^{n} x_{ij} = 1, & & i \\in N, i \\neq j \\\\\n",
    "       &  \\text{if} \\ x_{ij}=1 \\ \\Rightarrow \\ u_i + q_j = u_j && i,j \\in A : j\\neq 0, i\\neq 0 \\\\\n",
    "       &  q_i \\leq u_i \\leq Q && i \\in N \\\\\n",
    "       &  x_{ij} \\in \\{0,1\\} && i,j \\in A\n",
    "\\end{aligned}\n",
    "\\end{equation}\n",
    "\n",
    "\n"
   ]
  },
  {
   "cell_type": "code",
   "execution_count": 11,
   "metadata": {},
   "outputs": [],
   "source": [
    "def problem_instance(n_patients, vehicle_capacity, random_state=None):\n",
    "    '''\n",
    "    Create an instance of the CVRP in the formulation\n",
    "    of a MIP.\n",
    "    \n",
    "    Parameters:\n",
    "    ------\n",
    "    n_patient: int\n",
    "    vehicle_capacity: int\n",
    "    random_state: int, optional (default=None)\n",
    "    \n",
    "    Returns:\n",
    "    -----\n",
    "        dict, keys = N, V, A, c, Q, q\n",
    "    '''\n",
    "    rand_gen = RandomState(seed=random_state)\n",
    "    \n",
    "    #n_patients = 1 so we include the depot\n",
    "    x_coords = rand_gen.random(size=n_patients+1) * 200\n",
    "    y_coords = rand_gen.random(size=n_patients+1) * 100\n",
    "    \n",
    "    N = np.arange(1, n_patients+1)\n",
    "    V = np.arange(0, n_patients+1)\n",
    "    A = [(i, j) for i in V for j in V if i != j]\n",
    "    c = {(i, j): np.hypot(x_coords[i]-x_coords[j], y_coords[i]-y_coords[j]) \n",
    "     for i, j in A}\n",
    "    Q = vehicle_capacity\n",
    "    q = {i: 1 for i in N}\n",
    "    return {'x_coords':x_coords, 'y_coords':y_coords, \n",
    "            'N':N, 'V':V, 'A':A, 'c':c, 'Q':Q, 'q':q}"
   ]
  },
  {
   "cell_type": "code",
   "execution_count": 12,
   "metadata": {},
   "outputs": [],
   "source": [
    "def optimisation_model(instance):\n",
    "    '''\n",
    "    Create and return an istance of a gurobi optimisation\n",
    "    model for solving the CVRP.\n",
    "    \n",
    "    Parameters:\n",
    "    -------\n",
    "    instance: dict\n",
    "        problem instance for the CVRP\n",
    "    '''\n",
    "    mdl = Model('dialysis_transport')\n",
    "    \n",
    "    N = instance['N']\n",
    "    V = instance['V']\n",
    "    A = instance['A']\n",
    "    c = instance['c']\n",
    "    Q = instance['Q']\n",
    "    q = instance['q']\n",
    "        \n",
    "    x = mdl.addVars(A, vtype=GRB.BINARY)\n",
    "    u = mdl.addVars(N, vtype=GRB.CONTINUOUS)\n",
    "    mdl.modelSense = GRB.MINIMIZE\n",
    "    mdl.setObjective(quicksum(x[a]*instance['c'][a] for a in A))\n",
    "    mdl.addConstrs(quicksum(x[i, j] for j in V if j != i) == 1 for i in N)\n",
    "    mdl.addConstrs(quicksum(x[i, j] for i in V if i != j) == 1 for j in N)\n",
    "    mdl.addConstrs((x[i, j] == 1) >> (u[i]+q[j] == u[j])\n",
    "                   for i, j in A if i != 0 and j != 0)\n",
    "    mdl.addConstrs(u[i] >= q[i] for i in N)\n",
    "    mdl.addConstrs(u[i] <= Q for i in N)\n",
    "    return mdl, x, u"
   ]
  },
  {
   "cell_type": "code",
   "execution_count": 19,
   "metadata": {},
   "outputs": [],
   "source": [
    "def plot_solution(x, instance):\n",
    "    active_arcs = [a for a in instance['A'] if x[a].x == 1.00]\n",
    "    xc = instance['x_coords']\n",
    "    yc = instance['y_coords']\n",
    "    \n",
    "    for i, j in active_arcs:\n",
    "        plt.plot([xc[i], xc[j]], [yc[i], yc[j]], c='green')\n",
    "        plt.plot(xc[0], yc[0], c='r', marker='s')\n",
    "        plt.scatter(xc[1:], yc[1:], c='b')"
   ]
  },
  {
   "cell_type": "code",
   "execution_count": 20,
   "metadata": {},
   "outputs": [
    {
     "name": "stdout",
     "output_type": "stream",
     "text": [
      "Changed value of parameter TimeLimit to 10.0\n",
      "   Prev: inf  Min: 0.0  Max: inf  Default: inf\n",
      "Gurobi Optimizer version 9.0.2 build v9.0.2rc0 (linux64)\n",
      "Optimize a model with 60 rows, 255 columns and 480 nonzeros\n",
      "Model fingerprint: 0x3fec67ff\n",
      "Model has 210 general constraints\n",
      "Variable types: 15 continuous, 240 integer (240 binary)\n",
      "Coefficient statistics:\n",
      "  Matrix range     [1e+00, 1e+00]\n",
      "  Objective range  [9e+00, 2e+02]\n",
      "  Bounds range     [1e+00, 1e+00]\n",
      "  RHS range        [1e+00, 4e+00]\n",
      "Presolve added 495 rows and 105 columns\n",
      "Presolve time: 0.01s\n",
      "Presolved: 555 rows, 360 columns, 3214 nonzeros\n",
      "Variable types: 120 continuous, 240 integer (240 binary)\n",
      "\n",
      "Root relaxation: objective 5.126874e+02, 66 iterations, 0.00 seconds\n",
      "\n",
      "    Nodes    |    Current Node    |     Objective Bounds      |     Work\n",
      " Expl Unexpl |  Obj  Depth IntInf | Incumbent    BestBd   Gap | It/Node Time\n",
      "\n",
      "     0     0  512.68736    0   33          -  512.68736      -     -    0s\n",
      "H    0     0                    2283.8105615  512.68736  77.6%     -    0s\n",
      "H    0     0                    2057.5596703  512.68736  75.1%     -    0s\n",
      "H    0     0                    1158.8027970  512.68736  55.8%     -    0s\n",
      "H    0     0                    1068.0495026  515.22171  51.8%     -    0s\n",
      "H    0     0                    1013.0455384  515.98030  49.1%     -    0s\n",
      "     0     0  515.98030    0   34 1013.04554  515.98030  49.1%     -    0s\n",
      "H    0     0                    1002.8454755  515.98030  48.5%     -    0s\n",
      "     0     0  516.00220    0   34 1002.84548  516.00220  48.5%     -    0s\n",
      "H    0     0                     963.9684188  516.00220  46.5%     -    0s\n",
      "     0     0  519.71221    0   40  963.96842  519.71221  46.1%     -    0s\n",
      "     0     0  521.68589    0   39  963.96842  521.68589  45.9%     -    0s\n",
      "H    0     0                     954.9533692  521.95062  45.3%     -    0s\n",
      "     0     0  521.95062    0   39  954.95337  521.95062  45.3%     -    0s\n",
      "     0     0  527.31085    0   33  954.95337  527.31085  44.8%     -    0s\n",
      "     0     0  527.39467    0   30  954.95337  527.39467  44.8%     -    0s\n",
      "H    0     0                     922.3994737  527.39467  42.8%     -    0s\n",
      "     0     2  527.40031    0   29  922.39947  527.40031  42.8%     -    0s\n",
      "H  390   370                     915.6841643  533.53734  41.7%   8.1    0s\n",
      "H42176 22741                     915.2833974  656.55819  28.3%  12.3    4s\n",
      " 46058 24685  770.80127   62   16  915.28340  656.55819  28.3%  12.3    5s\n",
      " 173350 78024  761.29099   53   20  915.28340  656.55819  28.3%  11.5   10s\n",
      "\n",
      "Cutting planes:\n",
      "  Gomory: 13\n",
      "  Implied bound: 1\n",
      "  MIR: 4\n",
      "  Flow cover: 10\n",
      "  Zero half: 14\n",
      "\n",
      "Explored 174541 nodes (2009223 simplex iterations) in 10.02 seconds\n",
      "Thread count was 16 (of 16 available processors)\n",
      "\n",
      "Solution count 10: 915.283 915.684 922.399 ... 2057.56\n",
      "\n",
      "Time limit reached\n",
      "Best objective 9.152833974417e+02, best bound 6.565581885100e+02, gap 28.2672%\n"
     ]
    },
    {
     "data": {
      "image/png": "[encoded data removed]",
      "text/plain": [
       "<Figure size 432x288 with 1 Axes>"
      ]
     },
     "metadata": {},
     "output_type": "display_data"
    }
   ],
   "source": [
    "#model parameters\n",
    "N_PATIENTS = 15\n",
    "VEHICLE_CAPACITY = 4\n",
    "TIME_LIMIT = 10\n",
    "SEED = 101\n",
    "\n",
    "#create a problem instance\n",
    "instance = problem_instance(N_PATIENTS, VEHICLE_CAPACITY, random_state=SEED)\n",
    "\n",
    "#create an instance of a gurobi optimisation model\n",
    "model, x, u = optimisation_model(instance)\n",
    "\n",
    "#limit run time?\n",
    "if TIME_LIMIT > -1:\n",
    "    model.Params.TimeLimit = TIME_LIMIT  \n",
    "\n",
    "#execute the optimisation procedure\n",
    "model.optimize()\n",
    "\n",
    "#show the routes\n",
    "plot_solution(x, instance)"
   ]
  },
  {
   "cell_type": "code",
   "execution_count": null,
   "metadata": {},
   "outputs": [],
   "source": []
  }
 ],
 "metadata": {
  "kernelspec": {
   "display_name": "Python 3",
   "language": "python",
   "name": "python3"
  },
  "language_info": {
   "codemirror_mode": {
    "name": "ipython",
    "version": 3
   },
   "file_extension": ".py",
   "mimetype": "text/x-python",
   "name": "python",
   "nbconvert_exporter": "python",
   "pygments_lexer": "ipython3",
   "version": "3.7.7"
  }
 },
 "nbformat": 4,
 "nbformat_minor": 4
}
